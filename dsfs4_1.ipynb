{
  "cells": [
    {
      "cell_type": "markdown",
      "metadata": {
        "id": "view-in-github",
        "colab_type": "text"
      },
      "source": [
        "<a href=\"https://colab.research.google.com/github/Aromie/dsfs/blob/main/dsfs4_1.ipynb\" target=\"_parent\"><img src=\"https://colab.research.google.com/assets/colab-badge.svg\" alt=\"Open In Colab\"/></a>"
      ]
    },
    {
      "cell_type": "code",
      "execution_count": 2,
      "metadata": {
        "id": "WR2FTBt1w_3H"
      },
      "outputs": [],
      "source": [
        "from typing import List\n",
        "Vector=List[float]\n",
        "\n",
        "height_weight_age =[70,\n",
        "                    170,\n",
        "                    40]\n",
        "\n",
        "grades=[95,80,75,62]\n",
        "\n"
      ]
    },
    {
      "cell_type": "code",
      "execution_count": 3,
      "metadata": {
        "id": "gDcQnwMl3idl"
      },
      "outputs": [],
      "source": [
        "def add(v:Vector, w:Vector) -> Vector:\n",
        "  assert len(v) ==len(w), \"vectors must be...\"\n",
        "  return [v_i +w_i for v_i, w_i in zip(v,w)]\n",
        "\n",
        "assert add([1,2,3], [4,5,6]) == [5,7,9]"
      ]
    },
    {
      "cell_type": "code",
      "source": [
        "def subtract(v:Vector, w:Vector) ->Vector:\n",
        "  assert len(v)==len(w), \"vectors must be the same length\"\n",
        "  return [v_i-w_i for v_i,w_i in zip(v,w)]"
      ],
      "metadata": {
        "id": "H4JoPJKKsH8O"
      },
      "execution_count": 14,
      "outputs": []
    },
    {
      "cell_type": "code",
      "execution_count": 4,
      "metadata": {
        "id": "nCxyRGG24KMe"
      },
      "outputs": [],
      "source": [
        "def vector_sum(vectors:List[Vector]) -> Vector:\n",
        "  assert vectors, \"no vectors provided\"\n",
        "\n",
        "  num_elem = len(vectors[0]) # ****** #\n",
        "  assert all(len(v) == num_elem for v in vectors), \"different\"\n",
        "\n",
        "  return [sum(vector[i] for vector in vectors) for i in range(num_elem)]"
      ]
    },
    {
      "cell_type": "code",
      "execution_count": 5,
      "metadata": {
        "id": "Ys_9zm974dxR"
      },
      "outputs": [],
      "source": [
        "assert vector_sum([[1,2],[3,4],[5,6],[7,8]])==[16,20]"
      ]
    },
    {
      "cell_type": "code",
      "execution_count": 7,
      "metadata": {
        "id": "zT_6UBj1li08"
      },
      "outputs": [],
      "source": [
        "def scalar_multiply(c: float, v:Vector) -> Vector:\n",
        "  return [c * v_i for v_i in v]\n",
        "\n",
        "assert scalar_multiply(2,[1,2,3]) == [2,4,6]"
      ]
    },
    {
      "cell_type": "code",
      "execution_count": 8,
      "metadata": {
        "id": "dcMw1Q_Wli4I"
      },
      "outputs": [],
      "source": [
        "def vector_mean(vectors: List[Vector]) -> Vector:\n",
        "  n=len(vectors)\n",
        "  return scalar_multiply(1/n, vector_sum(vectors))\n",
        "\n",
        "assert vector_mean([[1,2],[3,4],[5,6]]) ==[3,4]"
      ]
    },
    {
      "cell_type": "code",
      "execution_count": 9,
      "metadata": {
        "id": "Ap4VtdOYoAbU"
      },
      "outputs": [],
      "source": [
        "def dot(v:Vector, w:Vector) -> float:\n",
        "  assert len(v)==len(w), \"vectors must be same length\"\n",
        "\n",
        "  return sum(v_i * w_i for v_i, w_i in zip(v,w))\n",
        "\n",
        "assert dot([1,2,3],[4,5,6]) == 32"
      ]
    },
    {
      "cell_type": "code",
      "execution_count": 10,
      "metadata": {
        "id": "khxHR09ZoAix"
      },
      "outputs": [],
      "source": [
        "def sum_of_squares(v:Vector) -> float:\n",
        "  return dot(v,v)\n",
        "\n",
        "assert sum_of_squares([1,2,3]) == 14"
      ]
    },
    {
      "cell_type": "code",
      "execution_count": 11,
      "metadata": {
        "id": "zoVi7Zx6li7C"
      },
      "outputs": [],
      "source": [
        "import math\n",
        "\n",
        "def magnitude(v: Vector) -> float:\n",
        "  return math.sqrt(sum_of_squares(v))\n",
        "\n",
        "assert magnitude([3,4])==5\n"
      ]
    },
    {
      "cell_type": "code",
      "source": [
        "test_v =[4,5]\n",
        "magnitude(test_v)"
      ],
      "metadata": {
        "colab": {
          "base_uri": "https://localhost:8080/"
        },
        "id": "y8PPZRcmjJpB",
        "outputId": "7d74fcc4-3ce4-47cd-e33b-05c68853250e"
      },
      "execution_count": 12,
      "outputs": [
        {
          "output_type": "execute_result",
          "data": {
            "text/plain": [
              "6.4031242374328485"
            ]
          },
          "metadata": {},
          "execution_count": 12
        }
      ]
    },
    {
      "cell_type": "code",
      "source": [
        "test_w =[7,8,9]\n",
        "magnitude(test_w)"
      ],
      "metadata": {
        "colab": {
          "base_uri": "https://localhost:8080/"
        },
        "id": "t5tJnqZkjJs5",
        "outputId": "4db7fc58-2942-440e-bbd4-fcb2e617b74b"
      },
      "execution_count": 13,
      "outputs": [
        {
          "output_type": "execute_result",
          "data": {
            "text/plain": [
              "13.92838827718412"
            ]
          },
          "metadata": {},
          "execution_count": 13
        }
      ]
    },
    {
      "cell_type": "code",
      "source": [
        "def squared_distance(v:Vector, w:Vector)->float:\n",
        "  return sum_of_squares(subtract(v,w))"
      ],
      "metadata": {
        "id": "l2-xzPqxjJww"
      },
      "execution_count": 15,
      "outputs": []
    },
    {
      "cell_type": "code",
      "source": [
        "def distance(v: Vector, w:Vector) -> float:\n",
        "  return math.sqrt(squared_distance(v,w))"
      ],
      "metadata": {
        "id": "eQSi22hRtBC6"
      },
      "execution_count": 16,
      "outputs": []
    },
    {
      "cell_type": "code",
      "source": [
        "def distance(v:Vector, w:Vector)-> float:\n",
        "  return magnitude(subtract(v,w))"
      ],
      "metadata": {
        "id": "CgxD3SuvtBI7"
      },
      "execution_count": null,
      "outputs": []
    }
  ],
  "metadata": {
    "colab": {
      "collapsed_sections": [],
      "provenance": [],
      "authorship_tag": "ABX9TyP//BW8cbWp6ocVqpBVyMqC",
      "include_colab_link": true
    },
    "kernelspec": {
      "display_name": "Python 3",
      "name": "python3"
    },
    "language_info": {
      "name": "python"
    }
  },
  "nbformat": 4,
  "nbformat_minor": 0
}