{
  "nbformat": 4,
  "nbformat_minor": 0,
  "metadata": {
    "colab": {
      "provenance": [],
      "collapsed_sections": [],
      "authorship_tag": "ABX9TyPCrMyRNktWq/FwFqFBwQue",
      "include_colab_link": true
    },
    "kernelspec": {
      "name": "python3",
      "display_name": "Python 3"
    },
    "language_info": {
      "name": "python"
    }
  },
  "cells": [
    {
      "cell_type": "markdown",
      "metadata": {
        "id": "view-in-github",
        "colab_type": "text"
      },
      "source": [
        "<a href=\"https://colab.research.google.com/github/Aromie/dsfs/blob/main/dsfs4_1.ipynb\" target=\"_parent\"><img src=\"https://colab.research.google.com/assets/colab-badge.svg\" alt=\"Open In Colab\"/></a>"
      ]
    },
    {
      "cell_type": "code",
      "execution_count": 2,
      "metadata": {
        "id": "WR2FTBt1w_3H"
      },
      "outputs": [],
      "source": [
        "from typing import List\n",
        "Vector=List[float]\n",
        "\n",
        "height_weight_age =[70,\n",
        "                    170,\n",
        "                    40]\n",
        "\n",
        "grades=[95,80,75,62]\n",
        "\n"
      ]
    },
    {
      "cell_type": "code",
      "source": [
        "def add(v:Vector, w:Vector) -> Vector:\n",
        "  assert len(v) ==len(w), \"vectors must be...\"\n",
        "  return [v_i +w_i for v_i, w_i in zip(v,w)]\n",
        "\n",
        "assert add([1,2,3], [4,5,6]) == [5,7,9]"
      ],
      "metadata": {
        "id": "gDcQnwMl3idl"
      },
      "execution_count": 3,
      "outputs": []
    },
    {
      "cell_type": "code",
      "source": [
        "def vector_sum(vectors:List[Vector]) -> Vector:\n",
        "  assert vectors, \"no vectors provided\"\n",
        "\n",
        "  num_elem = len(vectors[0]) # ****** #\n",
        "  assert all(len(v) == num_elem for v in vectors), \"different\"\n",
        "\n",
        "  return [sum(vector[i] for vector in vectors) for i in range(num_elem)]"
      ],
      "metadata": {
        "id": "nCxyRGG24KMe"
      },
      "execution_count": 4,
      "outputs": []
    },
    {
      "cell_type": "code",
      "source": [
        "assert vector_sum([[1,2],[3,4],[5,6],[7,8]])==[16,20]"
      ],
      "metadata": {
        "id": "Ys_9zm974dxR"
      },
      "execution_count": 5,
      "outputs": []
    },
    {
      "cell_type": "code",
      "source": [
        "def scalar_multiply(c: float, v:Vector) -> Vector:\n",
        "  return [c * v_i for v_i in v]\n",
        "\n",
        "assert scalar_multiply(2,[1,2,3]) == [2,4,6]"
      ],
      "metadata": {
        "id": "zT_6UBj1li08"
      },
      "execution_count": 6,
      "outputs": []
    },
    {
      "cell_type": "code",
      "source": [
        "def vector_mean(vectors: List[Vector]) -> Vector:\n",
        "  n=len(vectors)\n",
        "  return scalar_multiply(1/n, vector_sum(vectors))\n",
        "\n",
        "assert vector_mean([[1,2],[3,4],[5,6]]) ==[3,4]"
      ],
      "metadata": {
        "id": "dcMw1Q_Wli4I"
      },
      "execution_count": 7,
      "outputs": []
    },
    {
      "cell_type": "code",
      "source": [],
      "metadata": {
        "id": "Ap4VtdOYoAbU"
      },
      "execution_count": null,
      "outputs": []
    },
    {
      "cell_type": "code",
      "source": [],
      "metadata": {
        "id": "khxHR09ZoAix"
      },
      "execution_count": null,
      "outputs": []
    },
    {
      "cell_type": "code",
      "source": [
        "\n",
        "\n",
        "\n",
        "\n",
        "\n",
        "\n",
        "\n",
        "\n",
        "\n",
        "\n",
        "\n",
        "\n",
        "\n",
        "\n",
        "\n"
      ],
      "metadata": {
        "id": "zoVi7Zx6li7C"
      },
      "execution_count": null,
      "outputs": []
    }
  ]
}